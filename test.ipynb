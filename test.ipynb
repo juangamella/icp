{
 "cells": [
  {
   "cell_type": "markdown",
   "id": "black-metabolism",
   "metadata": {},
   "source": [
    "## Checking the backward phase"
   ]
  },
  {
   "cell_type": "code",
   "execution_count": 1,
   "id": "heated-rouge",
   "metadata": {},
   "outputs": [],
   "source": [
    "import numpy as np\n",
    "import sempler\n",
    "import sempler.generators\n",
    "import sempler.utils\n",
    "import matplotlib.pyplot as plt\n",
    "import pandas as pd\n",
    "import pickle\n",
    "import os\n",
    "\n",
    "import causalicp as icp\n",
    "from causalicp.test.test_vs_r import process_accepted_sets, process_confints, process_pvalues"
   ]
  },
  {
   "cell_type": "code",
   "execution_count": 2,
   "id": "excessive-surfing",
   "metadata": {},
   "outputs": [
    {
     "name": "stdout",
     "output_type": "stream",
     "text": [
      "[None, {2: (2.3561815391683787, 1.458218254987636)}, {4: (2.295173275271592, 1.7758536035863404)}]\n"
     ]
    },
    {
     "data": {
      "image/png": "[encoded data removed]",
      "text/plain": [
       "<Figure size 432x288 with 1 Axes>"
      ]
     },
     "metadata": {},
     "output_type": "display_data"
    }
   ],
   "source": [
    "i = 175\n",
    "path = 'causalicp/test/test_cases/case_%d' % i\n",
    "XX = np.load(path + '.npy')\n",
    "with open(path + '.pickle', 'rb') as f:\n",
    "    (scm, interventions, data) = pickle.load(f)\n",
    "assert (data == XX).all()\n",
    "print(interventions)\n",
    "sempler.utils.plot_graph(scm.W)"
   ]
  },
  {
   "cell_type": "code",
   "execution_count": 3,
   "id": "southwest-perception",
   "metadata": {},
   "outputs": [
    {
     "name": "stdout",
     "output_type": "stream",
     "text": [
      "   Unnamed: 0  V1  V2  V3  V4\n",
      "0           1   0   1   0   1\n",
      "1           2   1   1   0   1\n",
      "2           3   0   1   1   1\n",
      "3           4   1   1   1   1\n"
     ]
    },
    {
     "data": {
      "text/plain": [
       "{(1, 2, 3, 4), (1, 2, 4), (2, 3, 4), (2, 4)}"
      ]
     },
     "execution_count": 3,
     "metadata": {},
     "output_type": "execute_result"
    }
   ],
   "source": [
    "# Load R's accepted sets\n",
    "path = 'causalicp/test/test_cases/icp_result_%d_accepted.csv' % i\n",
    "df = pd.read_csv(path)\n",
    "print(df)\n",
    "true_accepted_sets = process_accepted_sets(df)\n",
    "true_accepted_sets"
   ]
  },
  {
   "cell_type": "code",
   "execution_count": 4,
   "id": "rocky-feeding",
   "metadata": {},
   "outputs": [
    {
     "name": "stdout",
     "output_type": "stream",
     "text": [
      "   Unnamed: 0        V3        V4        V5        V6\n",
      "0           1  0.038450  0.672279  0.081355 -0.749033\n",
      "1           2 -0.092536  0.511710 -0.085890 -0.905029\n"
     ]
    },
    {
     "data": {
      "text/plain": [
       "array([[        nan, -0.09253612,  0.51170984, -0.08588979, -0.90502916],\n",
       "       [        nan,  0.03844993,  0.67227906,  0.0813549 , -0.74903265]])"
      ]
     },
     "execution_count": 4,
     "metadata": {},
     "output_type": "execute_result"
    }
   ],
   "source": [
    "# Load R's confidence intervals\n",
    "path = 'causalicp/test/test_cases/icp_result_%d_confints.csv' % i\n",
    "df = pd.read_csv(path)\n",
    "print(df)\n",
    "true_confints = process_confints(df)\n",
    "true_confints"
   ]
  },
  {
   "cell_type": "code",
   "execution_count": 5,
   "id": "integrated-baltimore",
   "metadata": {},
   "outputs": [
    {
     "name": "stdout",
     "output_type": "stream",
     "text": [
      "   Unnamed: 0             x\n",
      "0           1  3.279868e-03\n",
      "1           2  2.523576e-19\n",
      "2           3  3.279868e-03\n",
      "3           4  2.553397e-16\n"
     ]
    },
    {
     "data": {
      "text/plain": [
       "{0: nan,\n",
       " 1: 0.0032798684475018,\n",
       " 2: 2.52357551383506e-19,\n",
       " 3: 0.0032798684475018,\n",
       " 4: 2.55339733849368e-16}"
      ]
     },
     "execution_count": 5,
     "metadata": {},
     "output_type": "execute_result"
    }
   ],
   "source": [
    "# Load R's p-values\n",
    "path = 'causalicp/test/test_cases/icp_result_%d_pvals.csv' % i\n",
    "df = pd.read_csv(path)\n",
    "print(df)\n",
    "true_pvalues = process_pvalues(df)\n",
    "true_pvalues"
   ]
  },
  {
   "cell_type": "markdown",
   "id": "existing-leader",
   "metadata": {},
   "source": [
    "### Test ICP"
   ]
  },
  {
   "cell_type": "code",
   "execution_count": 6,
   "id": "light-romantic",
   "metadata": {
    "scrolled": false
   },
   "outputs": [
    {
     "name": "stdout",
     "output_type": "stream",
     "text": [
      "Tested sets and their p-values:\n"
     ]
    },
    {
     "ename": "KeyError",
     "evalue": "'orange'",
     "output_type": "error",
     "traceback": [
      "\u001b[0;31m---------------------------------------------------------------------------\u001b[0m",
      "\u001b[0;31mKeyError\u001b[0m                                  Traceback (most recent call last)",
      "\u001b[0;32m<timed exec>\u001b[0m in \u001b[0;36m<module>\u001b[0;34m\u001b[0m\n",
      "\u001b[0;32m~/ETH/icp/causalicp/icp.py\u001b[0m in \u001b[0;36mfit\u001b[0;34m(data, target, alpha, selection, max_predictors, verbose)\u001b[0m\n\u001b[1;32m    128\u001b[0m             \u001b[0mcolor\u001b[0m \u001b[0;34m=\u001b[0m \u001b[0;34m'orange'\u001b[0m \u001b[0;32mif\u001b[0m \u001b[0mreject\u001b[0m \u001b[0;32melse\u001b[0m \u001b[0;34m'blue'\u001b[0m\u001b[0;34m\u001b[0m\u001b[0;34m\u001b[0m\u001b[0m\n\u001b[1;32m    129\u001b[0m             \u001b[0mset_str\u001b[0m \u001b[0;34m=\u001b[0m \u001b[0;34m'rejected'\u001b[0m \u001b[0;32mif\u001b[0m \u001b[0mreject\u001b[0m \u001b[0;32melse\u001b[0m \u001b[0;34m'accepted'\u001b[0m\u001b[0;34m\u001b[0m\u001b[0;34m\u001b[0m\u001b[0m\n\u001b[0;32m--> 130\u001b[0;31m             \u001b[0mmsg\u001b[0m \u001b[0;34m=\u001b[0m \u001b[0;34m'  '\u001b[0m \u001b[0;34m+\u001b[0m \u001b[0mcolored\u001b[0m\u001b[0;34m(\u001b[0m\u001b[0;34m'%s %s : %s'\u001b[0m \u001b[0;34m%\u001b[0m \u001b[0;34m(\u001b[0m\u001b[0mS\u001b[0m\u001b[0;34m,\u001b[0m \u001b[0mset_str\u001b[0m\u001b[0;34m,\u001b[0m \u001b[0mp_value\u001b[0m\u001b[0;34m)\u001b[0m\u001b[0;34m,\u001b[0m \u001b[0mcolor\u001b[0m\u001b[0;34m)\u001b[0m\u001b[0;34m\u001b[0m\u001b[0;34m\u001b[0m\u001b[0m\n\u001b[0m\u001b[1;32m    131\u001b[0m             \u001b[0mprint\u001b[0m\u001b[0;34m(\u001b[0m\u001b[0mmsg\u001b[0m\u001b[0;34m)\u001b[0m\u001b[0;34m\u001b[0m\u001b[0;34m\u001b[0m\u001b[0m\n\u001b[1;32m    132\u001b[0m     \u001b[0;31m# If no sets are accepted, there is a model violation. Reflect\u001b[0m\u001b[0;34m\u001b[0m\u001b[0;34m\u001b[0m\u001b[0;34m\u001b[0m\u001b[0m\n",
      "\u001b[0;32m~/anaconda3/lib/python3.8/site-packages/termcolor.py\u001b[0m in \u001b[0;36mcolored\u001b[0;34m(text, color, on_color, attrs)\u001b[0m\n\u001b[1;32m    103\u001b[0m         \u001b[0mfmt_str\u001b[0m \u001b[0;34m=\u001b[0m \u001b[0;34m'\\033[%dm%s'\u001b[0m\u001b[0;34m\u001b[0m\u001b[0;34m\u001b[0m\u001b[0m\n\u001b[1;32m    104\u001b[0m         \u001b[0;32mif\u001b[0m \u001b[0mcolor\u001b[0m \u001b[0;32mis\u001b[0m \u001b[0;32mnot\u001b[0m \u001b[0;32mNone\u001b[0m\u001b[0;34m:\u001b[0m\u001b[0;34m\u001b[0m\u001b[0;34m\u001b[0m\u001b[0m\n\u001b[0;32m--> 105\u001b[0;31m             \u001b[0mtext\u001b[0m \u001b[0;34m=\u001b[0m \u001b[0mfmt_str\u001b[0m \u001b[0;34m%\u001b[0m \u001b[0;34m(\u001b[0m\u001b[0mCOLORS\u001b[0m\u001b[0;34m[\u001b[0m\u001b[0mcolor\u001b[0m\u001b[0;34m]\u001b[0m\u001b[0;34m,\u001b[0m \u001b[0mtext\u001b[0m\u001b[0;34m)\u001b[0m\u001b[0;34m\u001b[0m\u001b[0;34m\u001b[0m\u001b[0m\n\u001b[0m\u001b[1;32m    106\u001b[0m \u001b[0;34m\u001b[0m\u001b[0m\n\u001b[1;32m    107\u001b[0m         \u001b[0;32mif\u001b[0m \u001b[0mon_color\u001b[0m \u001b[0;32mis\u001b[0m \u001b[0;32mnot\u001b[0m \u001b[0;32mNone\u001b[0m\u001b[0;34m:\u001b[0m\u001b[0;34m\u001b[0m\u001b[0;34m\u001b[0m\u001b[0m\n",
      "\u001b[0;31mKeyError\u001b[0m: 'orange'"
     ]
    }
   ],
   "source": [
    "%%time\n",
    "target = 0\n",
    "result = icp.fit(XX, target, alpha=0.001, selection=None, verbose=True)"
   ]
  },
  {
   "cell_type": "code",
   "execution_count": 7,
   "id": "ordered-baseball",
   "metadata": {},
   "outputs": [
    {
     "ename": "NameError",
     "evalue": "name 'result' is not defined",
     "output_type": "error",
     "traceback": [
      "\u001b[0;31m---------------------------------------------------------------------------\u001b[0m",
      "\u001b[0;31mNameError\u001b[0m                                 Traceback (most recent call last)",
      "\u001b[0;32m<ipython-input-7-e0e09588af41>\u001b[0m in \u001b[0;36m<module>\u001b[0;34m\u001b[0m\n\u001b[0;32m----> 1\u001b[0;31m \u001b[0maccepted_sets\u001b[0m \u001b[0;34m=\u001b[0m \u001b[0mset\u001b[0m\u001b[0;34m(\u001b[0m\u001b[0mtuple\u001b[0m\u001b[0;34m(\u001b[0m\u001b[0ms\u001b[0m\u001b[0;34m)\u001b[0m \u001b[0;32mfor\u001b[0m \u001b[0ms\u001b[0m \u001b[0;32min\u001b[0m \u001b[0mresult\u001b[0m\u001b[0;34m.\u001b[0m\u001b[0maccepted\u001b[0m\u001b[0;34m)\u001b[0m\u001b[0;34m\u001b[0m\u001b[0;34m\u001b[0m\u001b[0m\n\u001b[0m\u001b[1;32m      2\u001b[0m \u001b[0maccepted_sets\u001b[0m \u001b[0;34m==\u001b[0m \u001b[0mtrue_accepted_sets\u001b[0m\u001b[0;34m\u001b[0m\u001b[0;34m\u001b[0m\u001b[0m\n",
      "\u001b[0;31mNameError\u001b[0m: name 'result' is not defined"
     ]
    }
   ],
   "source": [
    "accepted_sets = set(tuple(s) for s in result.accepted)\n",
    "accepted_sets == true_accepted_sets"
   ]
  },
  {
   "cell_type": "code",
   "execution_count": null,
   "id": "steady-education",
   "metadata": {},
   "outputs": [],
   "source": [
    "accepted_sets - true_accepted_sets"
   ]
  },
  {
   "cell_type": "code",
   "execution_count": null,
   "id": "lasting-warrior",
   "metadata": {},
   "outputs": [],
   "source": [
    "true_accepted_sets - accepted_sets"
   ]
  },
  {
   "cell_type": "code",
   "execution_count": null,
   "id": "coastal-signature",
   "metadata": {},
   "outputs": [],
   "source": [
    "result.conf_intervals"
   ]
  },
  {
   "cell_type": "code",
   "execution_count": null,
   "id": "russian-fifth",
   "metadata": {},
   "outputs": [],
   "source": [
    "true_pvalues"
   ]
  },
  {
   "cell_type": "code",
   "execution_count": null,
   "id": "interested-silver",
   "metadata": {},
   "outputs": [],
   "source": [
    "result.p_values"
   ]
  },
  {
   "cell_type": "code",
   "execution_count": null,
   "id": "based-emergency",
   "metadata": {},
   "outputs": [],
   "source": [
    "np.all([np.isclose(p1, p2, equal_nan=True) for (p1, p2) in zip(true_pvalues.values(), result.p_values.values())])"
   ]
  },
  {
   "cell_type": "markdown",
   "id": "pacific-girlfriend",
   "metadata": {},
   "source": [
    "### Test the GaussianData class"
   ]
  },
  {
   "cell_type": "code",
   "execution_count": null,
   "id": "short-parallel",
   "metadata": {},
   "outputs": [],
   "source": [
    "raise Exception(\"Halt\")"
   ]
  },
  {
   "cell_type": "code",
   "execution_count": null,
   "id": "shared-portuguese",
   "metadata": {},
   "outputs": [],
   "source": [
    "from causalicp import GaussianData"
   ]
  },
  {
   "cell_type": "code",
   "execution_count": null,
   "id": "affiliated-neighborhood",
   "metadata": {
    "scrolled": true
   },
   "outputs": [],
   "source": [
    "data = GaussianData(XX)\n",
    "scm.W, scm.means"
   ]
  },
  {
   "cell_type": "markdown",
   "id": "metropolitan-chorus",
   "metadata": {},
   "source": [
    "#### Not the same to center data and to add intercept column"
   ]
  },
  {
   "cell_type": "code",
   "execution_count": null,
   "id": "golden-jacksonville",
   "metadata": {},
   "outputs": [],
   "source": [
    "y = 2\n",
    "S = {1,4}"
   ]
  },
  {
   "cell_type": "code",
   "execution_count": null,
   "id": "focused-platform",
   "metadata": {},
   "outputs": [],
   "source": [
    "data = GaussianData(XX, method = 'raw')"
   ]
  },
  {
   "cell_type": "code",
   "execution_count": null,
   "id": "blocked-modeling",
   "metadata": {
    "scrolled": true
   },
   "outputs": [],
   "source": [
    "%%time\n",
    "data.regress_pooled(y, S)"
   ]
  },
  {
   "cell_type": "code",
   "execution_count": null,
   "id": "fitting-smart",
   "metadata": {},
   "outputs": [],
   "source": [
    "data = GaussianData(XX, method = 'scatter')"
   ]
  },
  {
   "cell_type": "code",
   "execution_count": null,
   "id": "atmospheric-jewelry",
   "metadata": {},
   "outputs": [],
   "source": [
    "%%time\n",
    "data.regress_pooled(y, S)"
   ]
  },
  {
   "cell_type": "code",
   "execution_count": null,
   "id": "considered-isolation",
   "metadata": {},
   "outputs": [],
   "source": []
  },
  {
   "cell_type": "code",
   "execution_count": null,
   "id": "different-player",
   "metadata": {},
   "outputs": [],
   "source": [
    "0.00016855535884509765 * 4"
   ]
  },
  {
   "cell_type": "code",
   "execution_count": null,
   "id": "equivalent-breakfast",
   "metadata": {},
   "outputs": [],
   "source": []
  }
 ],
 "metadata": {
  "kernelspec": {
   "display_name": "Python 3",
   "language": "python",
   "name": "python3"
  },
  "language_info": {
   "codemirror_mode": {
    "name": "ipython",
    "version": 3
   },
   "file_extension": ".py",
   "mimetype": "text/x-python",
   "name": "python",
   "nbconvert_exporter": "python",
   "pygments_lexer": "ipython3",
   "version": "3.8.8"
  }
 },
 "nbformat": 4,
 "nbformat_minor": 5
}

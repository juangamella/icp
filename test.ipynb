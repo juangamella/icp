{
 "cells": [
  {
   "cell_type": "markdown",
   "metadata": {},
   "source": [
    "## Checking the backward phase"
   ]
  },
  {
   "cell_type": "code",
   "execution_count": 1,
   "metadata": {},
   "outputs": [],
   "source": [
    "import numpy as np\n",
    "import sempler\n",
    "import sempler.generators\n",
    "import sempler.utils\n",
    "import matplotlib.pyplot as plt\n",
    "import pandas as pd\n",
    "import pickle"
   ]
  },
  {
   "cell_type": "code",
   "execution_count": 2,
   "metadata": {},
   "outputs": [],
   "source": [
    "i = 0\n",
    "path = 'causalicp/test/test_cases/case_%d' % i\n",
    "XX = np.load(path + '.npy')\n",
    "with open(path + '.pickle', 'rb') as f:\n",
    "    (scm, target, interventions, data) = pickle.load(f)\n",
    "assert (data == XX).all()"
   ]
  },
  {
   "cell_type": "markdown",
   "metadata": {},
   "source": [
    "### Test ICP"
   ]
  },
  {
   "cell_type": "code",
   "execution_count": 3,
   "metadata": {},
   "outputs": [],
   "source": [
    "import causalicp as icp"
   ]
  },
  {
   "cell_type": "code",
   "execution_count": 4,
   "metadata": {
    "scrolled": false
   },
   "outputs": [
    {
     "name": "stdout",
     "output_type": "stream",
     "text": [
      "Tested sets and their p-values\n",
      "  \u001b[32mset() accepted\u001b[0m\n",
      "  \u001b[32m{1} accepted\u001b[0m\n",
      "  \u001b[31m{2} rejected\u001b[0m\n",
      "  \u001b[31m{3} rejected\u001b[0m\n",
      "  \u001b[32m{4} accepted\u001b[0m\n",
      "  \u001b[31m{1, 2} rejected\u001b[0m\n",
      "  \u001b[31m{1, 3} rejected\u001b[0m\n",
      "  \u001b[32m{1, 4} accepted\u001b[0m\n",
      "  \u001b[31m{2, 3} rejected\u001b[0m\n",
      "  \u001b[31m{2, 4} rejected\u001b[0m\n",
      "  \u001b[31m{3, 4} rejected\u001b[0m\n",
      "  \u001b[31m{1, 2, 3} rejected\u001b[0m\n",
      "  \u001b[31m{1, 2, 4} rejected\u001b[0m\n",
      "  \u001b[31m{1, 3, 4} rejected\u001b[0m\n",
      "  \u001b[31m{2, 3, 4} rejected\u001b[0m\n",
      "  \u001b[31m{1, 2, 3, 4} rejected\u001b[0m\n",
      "\n",
      "Estimated parental set: set()\n",
      "\n",
      "CPU times: user 113 ms, sys: 2.61 ms, total: 115 ms\n",
      "Wall time: 149 ms\n"
     ]
    }
   ],
   "source": [
    "%%time\n",
    "target = 0\n",
    "result = icp.fit(XX, target, alpha=0.001, verbose=True)"
   ]
  },
  {
   "cell_type": "code",
   "execution_count": 5,
   "metadata": {},
   "outputs": [
    {
     "name": "stdout",
     "output_type": "stream",
     "text": [
      "[]\n",
      "[1]\n",
      "[4]\n",
      "[1, 4]\n"
     ]
    }
   ],
   "source": [
    "for S in result.accepted:\n",
    "    adapted = []\n",
    "    for s in S:\n",
    "        if s > target:\n",
    "            adapted.append(s)\n",
    "        else:\n",
    "            adapted.append(s+1)\n",
    "    print(adapted)"
   ]
  },
  {
   "cell_type": "code",
   "execution_count": 6,
   "metadata": {},
   "outputs": [
    {
     "data": {
      "text/plain": [
       "set()"
      ]
     },
     "execution_count": 6,
     "metadata": {},
     "output_type": "execute_result"
    }
   ],
   "source": [
    "result.estimate"
   ]
  },
  {
   "cell_type": "markdown",
   "metadata": {},
   "source": [
    "### Test the GaussianData class"
   ]
  },
  {
   "cell_type": "code",
   "execution_count": 7,
   "metadata": {},
   "outputs": [],
   "source": [
    "from causalicp import GaussianData"
   ]
  },
  {
   "cell_type": "code",
   "execution_count": 8,
   "metadata": {
    "scrolled": true
   },
   "outputs": [
    {
     "data": {
      "text/plain": [
       "(array([[ 0.        ,  0.        ,  0.79620728, -0.52322521,  0.        ],\n",
       "        [-0.        ,  0.        ,  0.84211651, -0.72007625,  0.        ],\n",
       "        [-0.        ,  0.        ,  0.        , -0.62938999,  0.        ],\n",
       "        [-0.        ,  0.        , -0.        , -0.        ,  0.        ],\n",
       "        [ 0.        , -0.        ,  0.97444277,  0.        ,  0.        ]]),\n",
       " array([0.39488152, 0.29348817, 0.01407982, 0.1988424 , 0.71134195]))"
      ]
     },
     "execution_count": 8,
     "metadata": {},
     "output_type": "execute_result"
    }
   ],
   "source": [
    "data = GaussianData(XX)\n",
    "scm.W, scm.means"
   ]
  },
  {
   "cell_type": "markdown",
   "metadata": {},
   "source": [
    "#### Not the same to center data and to add intercept column"
   ]
  },
  {
   "cell_type": "code",
   "execution_count": 9,
   "metadata": {},
   "outputs": [],
   "source": [
    "y = 2\n",
    "S = {1,4}"
   ]
  },
  {
   "cell_type": "code",
   "execution_count": 10,
   "metadata": {},
   "outputs": [],
   "source": [
    "data = GaussianData(XX, method = 'raw')"
   ]
  },
  {
   "cell_type": "code",
   "execution_count": 11,
   "metadata": {
    "scrolled": true
   },
   "outputs": [
    {
     "name": "stdout",
     "output_type": "stream",
     "text": [
      "CPU times: user 744 µs, sys: 84 µs, total: 828 µs\n",
      "Wall time: 664 µs\n"
     ]
    },
    {
     "data": {
      "text/plain": [
       "(array([0.        , 0.88039721, 0.        , 0.        , 1.01776983]),\n",
       " 0.9552176802692507)"
      ]
     },
     "execution_count": 11,
     "metadata": {},
     "output_type": "execute_result"
    }
   ],
   "source": [
    "%%time\n",
    "data.regress_pooled(y, S)"
   ]
  },
  {
   "cell_type": "code",
   "execution_count": 12,
   "metadata": {},
   "outputs": [],
   "source": [
    "data = GaussianData(XX, method = 'scatter')"
   ]
  },
  {
   "cell_type": "code",
   "execution_count": 13,
   "metadata": {},
   "outputs": [
    {
     "name": "stdout",
     "output_type": "stream",
     "text": [
      "CPU times: user 255 µs, sys: 0 ns, total: 255 µs\n",
      "Wall time: 237 µs\n"
     ]
    },
    {
     "data": {
      "text/plain": [
       "(array([0.        , 0.88039721, 0.        , 0.        , 1.01776983]),\n",
       " 0.9552176802692511)"
      ]
     },
     "execution_count": 13,
     "metadata": {},
     "output_type": "execute_result"
    }
   ],
   "source": [
    "%%time\n",
    "data.regress_pooled(y, S)"
   ]
  },
  {
   "cell_type": "code",
   "execution_count": null,
   "metadata": {},
   "outputs": [],
   "source": []
  }
 ],
 "metadata": {
  "kernelspec": {
   "display_name": "Python 3",
   "language": "python",
   "name": "python3"
  },
  "language_info": {
   "codemirror_mode": {
    "name": "ipython",
    "version": 3
   },
   "file_extension": ".py",
   "mimetype": "text/x-python",
   "name": "python",
   "nbconvert_exporter": "python",
   "pygments_lexer": "ipython3",
   "version": "3.7.4"
  }
 },
 "nbformat": 4,
 "nbformat_minor": 5
}
